{
 "cells": [
  {
   "cell_type": "markdown",
   "metadata": {},
   "source": [
    "# Bloky\n",
    "\n",
    "Uzatvorenie časti kódu do blokov umožňuje vytváranie vetvy obvodu alebu umiesnenie iných komponentov relatívne k poslednej súradnici bez toho, aby bola táto zmenená. Bloky je možné vnárať."
   ]
  },
  {
   "cell_type": "code",
   "execution_count": null,
   "metadata": {},
   "outputs": [],
   "source": [
    "from img.cm_utils import *\n",
    "\n",
    "\n",
    "S1 = '''\n",
    "d=2;\n",
    "move to (0.5, 3);\n",
    "resistor(right_ d,E);        llabel(,R1,);\n",
    "dot;\n",
    "{ \n",
    "    resistor(down_ d, E);    llabel(,R2,);\n",
    "    gnd;\n",
    "}\n",
    "{\n",
    "    resistor(up_ d,E);       rlabel(,R3,);\n",
    "    P: power();    {\"Power\" at P.n above};  # vnoreny blok\n",
    "    \n",
    "}\n",
    "resistor(right_ d,E);        llabel(,R4,);\n",
    "'''\n",
    "\n",
    "cm_show('obr-317-1', S1, 500)"
   ]
  },
  {
   "cell_type": "markdown",
   "metadata": {},
   "source": [
    "<img src=\"./img/obr-317-1.png\" width=500, alt=\"Skript S1\" scale=\"0.1\"/>"
   ]
  },
  {
   "cell_type": "markdown",
   "metadata": {},
   "source": [
    "Referencie vytvorené vo vnútri bloku sú globálne a je možno sa na ne odkazovať v nasledujúcom kóde ako aj v iných blokoch. "
   ]
  },
  {
   "cell_type": "code",
   "execution_count": null,
   "metadata": {},
   "outputs": [],
   "source": [
    "S2 = '''\n",
    "d=2;\n",
    "move to (2, 3);\n",
    "DT1: dot;                   # pociatocny bod\n",
    "{\n",
    "    diode(right_ up_);      # horna vetva diod\n",
    "    DT2: dot;               # vytvorena referencia\n",
    "    diode(right_ down_);\n",
    "}\n",
    "\n",
    "{\n",
    "    diode(right_ down_);    # dolna vetva diod\n",
    "    DT3: dot;\n",
    "    diode(right_ up_); \n",
    "    DT4: dot;\n",
    "}\n",
    "\n",
    "L1: line from DT2  up_ d/2 then left_ d;   tconn(,O);\n",
    "L2: line from DT3  down_ d/2 then left_ d; tconn(,O);\n",
    "L3: line from DT4 right_ d; tconn(d/4, O);\n",
    "\n",
    "L4: line from DT1 left_ d/2 then down_ 7*d/8; \n",
    "    line to (L3.e.x, Here.y); tconn(right_ d/4,O);\n",
    "    \n",
    "'''\n",
    "\n",
    "cm_show('obr-317-2', S2, 500)"
   ]
  },
  {
   "cell_type": "markdown",
   "metadata": {},
   "source": [
    "<img src=\"./img/obr-317-2.png\" width=500, alt=\"Skript S2\" scale=\"0.1\"/>"
   ]
  }
 ],
 "metadata": {
  "kernelspec": {
   "display_name": "Python 3",
   "language": "python",
   "name": "python3"
  },
  "language_info": {
   "codemirror_mode": {
    "name": "ipython",
    "version": 3
   },
   "file_extension": ".py",
   "mimetype": "text/x-python",
   "name": "python",
   "nbconvert_exporter": "python",
   "pygments_lexer": "ipython3",
   "version": "3.8.5"
  },
  "latex_envs": {
   "LaTeX_envs_menu_present": true,
   "autoclose": false,
   "autocomplete": true,
   "bibliofile": "biblio.bib",
   "cite_by": "apalike",
   "current_citInitial": 1,
   "eqLabelWithNumbers": true,
   "eqNumInitial": 1,
   "hotkeys": {
    "equation": "Ctrl-E",
    "itemize": "Ctrl-I"
   },
   "labels_anchors": false,
   "latex_user_defs": false,
   "report_style_numbering": false,
   "user_envs_cfg": false
  },
  "varInspector": {
   "cols": {
    "lenName": 16,
    "lenType": 16,
    "lenVar": 40
   },
   "kernels_config": {
    "python": {
     "delete_cmd_postfix": "",
     "delete_cmd_prefix": "del ",
     "library": "var_list.py",
     "varRefreshCmd": "print(var_dic_list())"
    },
    "r": {
     "delete_cmd_postfix": ") ",
     "delete_cmd_prefix": "rm(",
     "library": "var_list.r",
     "varRefreshCmd": "cat(var_dic_list()) "
    }
   },
   "types_to_exclude": [
    "module",
    "function",
    "builtin_function_or_method",
    "instance",
    "_Feature"
   ],
   "window_display": false
  }
 },
 "nbformat": 4,
 "nbformat_minor": 4
}
