{
 "cells": [
  {
   "cell_type": "markdown",
   "metadata": {},
   "source": [
    "# PyCirkuit\n",
    "\n",
    "PyCirkuit je aplikácia obsahujúca jednoduchý editor zdrojových textov pre CM s farebným zvýrazňovaním syntaxe, kompilátorom a prehliadač vytvorených schém a zapojení. Program umožňuje exportovať vytvorené zapojenia do štandardných grafických formátov ako aj do makier *pctricks*.\n",
    "\n",
    "<img src=\"./img/pycirkuit.png\" width=500, alt=\"PyCirkuit\" scale=\"0.25\"/>\n",
    "\n",
    "Domáca stránka programu je na \n",
    "\n",
    "    https://github.com/orestesmas/pycirkuit\n",
    "    \n",
    "PyCirkuit je do Pythonu prepísaná verzia programu Cirkuit, jeho originálna zdrojová stránka je na\n",
    "\n",
    "    https://wwwu.uni-klu.ac.at/magostin/cirkuit.html\n",
    "    \n",
    "    \n",
    "## Inštalácia \n",
    "\n",
    "Program je dostupný v štandardných repozitároch. Pri inštalácii si automaticky doinštaluje aj knižnicu *circuit-macros* a príslušné podporné programu (*dpic*). *m4* makroprocesor je štandardnou súčasťou distríbúcie Linux-u. \n",
    "\n",
    "    sudo apt-get install pycirkuit\n",
    "\n",
    "Overené na Mint 20.x, na starších verziách generuje chyby pri kompilacii obrázku. "
   ]
  }
 ],
 "metadata": {
  "kernelspec": {
   "display_name": "Python 3",
   "language": "python",
   "name": "python3"
  },
  "language_info": {
   "codemirror_mode": {
    "name": "ipython",
    "version": 3
   },
   "file_extension": ".py",
   "mimetype": "text/x-python",
   "name": "python",
   "nbconvert_exporter": "python",
   "pygments_lexer": "ipython3",
   "version": "3.8.5"
  },
  "latex_envs": {
   "LaTeX_envs_menu_present": true,
   "autoclose": false,
   "autocomplete": true,
   "bibliofile": "biblio.bib",
   "cite_by": "apalike",
   "current_citInitial": 1,
   "eqLabelWithNumbers": true,
   "eqNumInitial": 1,
   "hotkeys": {
    "equation": "Ctrl-E",
    "itemize": "Ctrl-I"
   },
   "labels_anchors": false,
   "latex_user_defs": false,
   "report_style_numbering": false,
   "user_envs_cfg": false
  },
  "varInspector": {
   "cols": {
    "lenName": 16,
    "lenType": 16,
    "lenVar": 40
   },
   "kernels_config": {
    "python": {
     "delete_cmd_postfix": "",
     "delete_cmd_prefix": "del ",
     "library": "var_list.py",
     "varRefreshCmd": "print(var_dic_list())"
    },
    "r": {
     "delete_cmd_postfix": ") ",
     "delete_cmd_prefix": "rm(",
     "library": "var_list.r",
     "varRefreshCmd": "cat(var_dic_list()) "
    }
   },
   "types_to_exclude": [
    "module",
    "function",
    "builtin_function_or_method",
    "instance",
    "_Feature"
   ],
   "window_display": false
  }
 },
 "nbformat": 4,
 "nbformat_minor": 4
}
