{
 "cells": [
  {
   "cell_type": "markdown",
   "metadata": {},
   "source": [
    "# Práca s komponentami \n",
    "\n",
    "Použitie základných grafických komponentov..\n",
    "\n"
   ]
  },
  {
   "cell_type": "markdown",
   "metadata": {},
   "source": [
    "## Čiary, šípky a krivky\n",
    "\n",
    "V template je vytvorená mriežka s krokom 1x1cm, v súradnicovej sústave sa zadáva poloha dvojicou (x,y). Posledná poloha je označená ako *Here*. Suradnice môžu byť zadané absolútne, relatívne voči poslednej polohe alebo smerom."
   ]
  },
  {
   "cell_type": "code",
   "execution_count": null,
   "metadata": {},
   "outputs": [],
   "source": [
    "from img.cm_utils import *\n",
    "\n",
    "L1='''\n",
    "line from (1,1) to (3,2); {\"A\" above};  # A. absolutne polohy bodov, nastavuje \n",
    "                                        #    poziciu Here na konc. bod \n",
    "line from Here to (4,2);  {\"B\" below};  # B. ciara od aktualnej pozicie\n",
    "line to (5,3);            {\"C\" below};  # C. to iste od posledneho bodu\n",
    "line to Here + (0,1);     {\"D\" ljust};  # D. relativne od poslednej pozicie \n",
    "line left_ 2              {\"E\" above};  # E. relativne zadanim smeru v jednej osi\n",
    "line left_ 1 up_ 1;       {\"F\" rjust};  # F. relativne v dvoch osiach\n",
    "\n",
    "                                        # G. zadanim postupnosti bodov\n",
    "line from (6,1) to (7,2) to (8,1) to (9,2); {\"G\" above};\n",
    "\n",
    "                                        # H. postupnostou relativnych krokov\n",
    "line from (6,5) right_ 1 then right_ 1 down_ 2 then right_ 1 up_ 1; {\"H\" above};\n",
    "\n",
    "'''\n",
    "\n",
    "cm_show('obr-100', L1, 500)"
   ]
  },
  {
   "cell_type": "markdown",
   "metadata": {},
   "source": [
    "<img src=\"./img/obr-100.png\" width=500, alt=\"Skript L1\" scale=\"0.1\"/>"
   ]
  },
  {
   "cell_type": "markdown",
   "metadata": {},
   "source": [
    "Krivky môžeme kresliť rôznymi spôsobmi, pre krivky definované ako spline môžeme nastaviť parametrom tvar krivky (tension parameter). Čiary aj krivky mpžeme modifikovať parametrami *dashed* a *dotted*, za ktorými môže nasledovať numerická hodnota udávajúca hustotu čiarok alebo bodiek (závisí od zvolenej mierky obrázku)."
   ]
  },
  {
   "cell_type": "code",
   "execution_count": null,
   "metadata": {},
   "outputs": [],
   "source": [
    "L2='''                                       \n",
    "                                             # J. spline krivka, suradnice \n",
    "                                             #    rovnake ako pri ciare\n",
    "spline from (1,1) right_ 1 up_ 1 then right_ 1 down _1 then right_ 1 down_ 2 then up_ 3; {\"J\" rjust};\n",
    "\n",
    "arrow from (1,4) right_ 2;     {\"K\" ljust};  # K. sipka menom      \n",
    "line -> from (1,4.5) right_ 2; {\"L\" ljust};  # L. sipka smerom doprava\n",
    "line <- from (1, 5) right_ 2;  {\"M\" ljust};  # M. sipka smerom dolava\n",
    "\n",
    "                                             # N. obojstranna sipka, oznacenie \n",
    "                                             #     v strede\n",
    "S1: spline <-> from (6,2) to (7,4) to (8,1) to (9.5,3); {\"N\" at S1.c}; \n",
    "\n",
    "spline 1.4 from (6, 3.5) up_ 2 then right_ 2 then down_ 2 dashed .08;\n",
    "spline 1.0 from (6, 3.5) up_ 2 then right_ 2 then down_ 2;\n",
    "spline 0.6 from (6, 3.5) up_ 2 then right_ 2 then down_ 2 dotted .05;\n",
    "'''\n",
    "\n",
    "cm_show('obr-200', L2, 500)"
   ]
  },
  {
   "cell_type": "markdown",
   "metadata": {},
   "source": [
    "<img src=\"./img/obr-200.png\" width=500, alt=\"Skript L2\" scale=\"0.1\"/>"
   ]
  },
  {
   "cell_type": "markdown",
   "metadata": {},
   "source": [
    "<!-- NEWPAGE -->\n",
    "## Ukladanie komponentov\n",
    "\n",
    "Pre uložením komponentu treba definovať smer, default je *right_*. V CM sa pre určenie smeru používajú označenia smeru s podtržítkom, ktoré nastavujú hodnoty globálnych premenných (napr. *Here*). Rovnaké mená, ae bez podtržítka používa *dpic*.\n",
    "\n",
    "Makrá *rlabel* a *llabel* slúžia na popis dvojpólov vo formáte (začiatok, stred, koniec), poloha popisu je v smere ukladania komponentu. Text môže byť v matematickom formáte LaTeX-u. "
   ]
  },
  {
   "cell_type": "code",
   "execution_count": null,
   "metadata": {},
   "outputs": [],
   "source": [
    "L3='''  \n",
    "move to (1, 5.5);\n",
    "\n",
    "right_;                     # vseobecne nastavenie smeru\n",
    "resistor();                  llabel(,R1,); \n",
    "resistor();                  llabel(,R2,); \n",
    "resistor();                  llabel(,R3,); \n",
    "\n",
    "# nastavenie smeru a dlzkou, nastavuje aj globalny smer\n",
    "resistor(down_ 1.5); llabel(,R4,);      \n",
    "\n",
    "# nastavenie specifickeho smeru pre dvojpoly\n",
    "resistor(down_ left_ );     rlabel(,,R5);    \n",
    "capacitor();                rlabel(,,C1); \n",
    "\n",
    "# zadanie oboma koncovymi bodmi\n",
    "resistor(from (0.5, 0.5) to (1,3), E); rlabel(,,R6); \n",
    "\n",
    "resistor( to (2.5, 1.5) );  rlabel(R7,,);      # len koncovym bodom od poslednej \n",
    "                                               # polohy, absolutne\n",
    "                                               \n",
    "resistor( to Here+(1,2));   rlabel(R8,,);      # relativnou velkostou \n",
    "                                               # k poslednej polohe Here\n",
    "'''\n",
    "\n",
    "cm_show('obr-300', L3, 500)"
   ]
  },
  {
   "cell_type": "markdown",
   "metadata": {},
   "source": [
    "<img src=\"./img/obr-300.png\" width=500, alt=\"Skript L3\" scale=\"0.1\"/>"
   ]
  },
  {
   "cell_type": "markdown",
   "metadata": {},
   "source": [
    "<!-- NEWPAGE -->\n",
    "## Atribúty komponentov\n",
    "\n",
    "Pozícia v CM môže byť definovaná aj voči atribútom komponentu. Názvy atribútov sú definované v makre príslušného komponentu, k atribútom sa pristupoje cez \".\". Pre čiaru sú definované štandardné atribúty\n",
    "\n",
    "    start    alebo s\n",
    "    center         c\n",
    "    end            e\n",
    "    \n",
    "Atribút obsahuje dvojici súradníc (x,y), ku ktorým sa pristupuje identicky, pre čiaru L\n",
    "\n",
    "    L.center\n",
    "    \n",
    "je ekvivalentom \n",
    "\n",
    "    (L.center.x, L.center.y)  alebo (L.c.x, L.c.y)\n",
    "    \n",
    "Pri pozičnom použití atribútov sa automaticky vyberá príslušná zložka\n",
    "\n",
    "    (L.s, L.e)\n",
    "    \n",
    "je ekvivalentom\n",
    "\n",
    "    (L.s.x, L.e.y)"
   ]
  },
  {
   "cell_type": "code",
   "execution_count": null,
   "metadata": {},
   "outputs": [],
   "source": [
    "L4='''  \n",
    "move to (2, 2);\n",
    "\n",
    "L: line right_ 1.5 up_ 2 then right_ 2.5 down_ 1.5 then right_ 1.5 up_ 1\n",
    "\n",
    "move to L.start;  dot; \"L.start\"  below;        # rovnako ako L.s\n",
    "move to L.center; dot; \"L.center\" below;    \n",
    "move to L.end;    dot; \"L.end\"    above;   \n",
    "\n",
    "capacitor(from L.e down_ 2)                     # umiestnenie relativne k ciare\n",
    "resistor( from (L.s, L.e) up_ 2 ); rlabel(,R,);\n",
    " '''\n",
    "\n",
    "cm_show('obr-400', L4, 500)"
   ]
  },
  {
   "cell_type": "markdown",
   "metadata": {},
   "source": [
    "<img src=\"./img/obr-400.png\" width=500, alt=\"Skript L4\" scale=\"0.1\"/>\n",
    "\n",
    "Štandardné atribúty pre box - podľa svetových strán."
   ]
  },
  {
   "cell_type": "code",
   "execution_count": null,
   "metadata": {},
   "outputs": [],
   "source": [
    "L5 = '''  \n",
    "move to (2, 3);\n",
    "\n",
    "B: box wid 4 ht 2 \n",
    "\n",
    "move to B.west;   \"B.w\"  rjust;    # rovnako ako B.w\n",
    "move to B.c;      \"B.c\";    \n",
    "move to B.e;      \"B.e\"  ljust;   \n",
    "move to B.n;      \"B.e\"  above; \n",
    "move to B.s;      \"B.e\"  below;\n",
    "\n",
    "move to B.ne;     \"B.ne\"  above ljust; \n",
    "move to B.nw;     \"B.nw\"  above rjust; \n",
    "\n",
    "move to B.se;     \"B.se\"  below ljust; \n",
    "move to B.sw;     \"B.sw\"  below rjust; \n",
    " '''\n",
    "\n",
    "cm_show('obr-500', L5, 500)"
   ]
  },
  {
   "cell_type": "markdown",
   "metadata": {},
   "source": [
    "<img src=\"./img/obr-500.png\" width=500, alt=\"Skript L5\" scale=\"0.1\"/>"
   ]
  },
  {
   "cell_type": "markdown",
   "metadata": {},
   "source": [
    "Komplikovanejšie komponenty majú okrem štandardných atribútov definované aj vlastné atribúty, napr. pri bipolárnom tranzistore B,C.E a pod. Zoznam atribútov pre daný komponent je dostupný v dokumentácii ku komponentu."
   ]
  },
  {
   "cell_type": "code",
   "execution_count": null,
   "metadata": {},
   "outputs": [],
   "source": [
    "# pouzitie specifickych atributov komponentu\n",
    "L6 = '''  \n",
    "move to (1.5, 2);\n",
    "up_;\n",
    "T: bi_tr(1.5, L, N,E); {\"$T_1$\" at T.nw}\n",
    "resistor(from T.E down_ 1.5, E); gnd;\n",
    "resistor(from T.C up_ 1.5, E); power;\n",
    "line from T.B left 0.5; \n",
    "\n",
    "move to T.C; \n",
    "dot;\n",
    "capacitor(right_ 2)\n",
    "\n",
    "#---------------------------------------\n",
    "\n",
    "move to (6,3);\n",
    "OP: opamp()\n",
    "line from OP.In2 left_ 1\n",
    "move to OP.Out; \n",
    "dot;\n",
    "{ line right_ 1 }\n",
    "line up_ 1; \n",
    "resistor(left_ 2, E);\n",
    "line to (Here.x, OP.In1.y) to OP.In1\n",
    "'''\n",
    "\n",
    "cm_show('obr-600', L6, 500)"
   ]
  },
  {
   "cell_type": "markdown",
   "metadata": {},
   "source": [
    "<img src=\"./img/obr-600.png\" width=500, alt=\"Skript L6\" scale=\"0.1\"/>"
   ]
  }
 ],
 "metadata": {
  "kernelspec": {
   "display_name": "Python 3",
   "language": "python",
   "name": "python3"
  },
  "language_info": {
   "codemirror_mode": {
    "name": "ipython",
    "version": 3
   },
   "file_extension": ".py",
   "mimetype": "text/x-python",
   "name": "python",
   "nbconvert_exporter": "python",
   "pygments_lexer": "ipython3",
   "version": "3.8.5"
  },
  "latex_envs": {
   "LaTeX_envs_menu_present": true,
   "autoclose": false,
   "autocomplete": true,
   "bibliofile": "biblio.bib",
   "cite_by": "apalike",
   "current_citInitial": 1,
   "eqLabelWithNumbers": true,
   "eqNumInitial": 1,
   "hotkeys": {
    "equation": "Ctrl-E",
    "itemize": "Ctrl-I"
   },
   "labels_anchors": false,
   "latex_user_defs": false,
   "report_style_numbering": false,
   "user_envs_cfg": false
  },
  "varInspector": {
   "cols": {
    "lenName": 16,
    "lenType": 16,
    "lenVar": 40
   },
   "kernels_config": {
    "python": {
     "delete_cmd_postfix": "",
     "delete_cmd_prefix": "del ",
     "library": "var_list.py",
     "varRefreshCmd": "print(var_dic_list())"
    },
    "r": {
     "delete_cmd_postfix": ") ",
     "delete_cmd_prefix": "rm(",
     "library": "var_list.r",
     "varRefreshCmd": "cat(var_dic_list()) "
    }
   },
   "types_to_exclude": [
    "module",
    "function",
    "builtin_function_or_method",
    "instance",
    "_Feature"
   ],
   "window_display": false
  }
 },
 "nbformat": 4,
 "nbformat_minor": 4
}
