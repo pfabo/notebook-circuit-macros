{
 "cells": [
  {
   "cell_type": "markdown",
   "metadata": {},
   "source": [
    "# Text\n",
    "\n",
    "Základné formátovanie textu je možné priamo v CM, komplexnejšie formátovanie je možno z využitím renderovania textu v LaTeX-u. \n",
    "\n",
    "## Pozícia textu\n",
    "\n",
    "Text je ohraničený obyčajnými uvodzovkami nasledovanými určením polohu textu a relatívneho umiestnenia voči tejto polohe.\n",
    "\n",
    "    \"Test\" location position;\n",
    "    \n",
    "Uminestnenie (position) môže byť\n",
    "\n",
    "    ljust\n",
    "    rjust\n",
    "    above\n",
    "    belov\n",
    "    \n",
    "Text modifikuje globálnu premennú *Here*\n",
    "\n",
    "### Použitie textu s atribútami objektov"
   ]
  },
  {
   "cell_type": "code",
   "execution_count": null,
   "metadata": {},
   "outputs": [],
   "source": [
    "from img.cm_utils import *\n",
    "\n",
    "sch=r'''\n",
    "line <- from (3, 0.7) up_ 2;\n",
    "\"Text at (3, 0.5)\" at (3, 0.5);    \n",
    "\"Text at (3, 1.5) rjust\"  at (3, 1.5)  rjust;   \n",
    "\"Text at (3, 2.5) ljust\"  at (3, 2.5)  ljust; \n",
    "\n",
    "L1: line from (4, 4.5) to (9.0, 4.5)\n",
    "move to L1.c; dot;\n",
    "\"Text at (4, 4.5) rjust above\"  at (4, 4.5)  rjust above; \n",
    "\"Text at L1.c below\"  at L1.c below; \n",
    "'''\n",
    "\n",
    "cm_show('obr-319-1', sch, 600)"
   ]
  },
  {
   "cell_type": "markdown",
   "metadata": {},
   "source": [
    "<img src=\"./img/obr-319-1.png\" width=500, alt=\"Skript\" scale=\"0.1\"/>"
   ]
  },
  {
   "cell_type": "markdown",
   "metadata": {},
   "source": [
    "## Matematické výrazy\n",
    "\n",
    "Pre zobrazenie matematické výrazy sa používa štandardné formátovanie LaTeX-u. Text sa korektne zobrazí len pri renderovaní pomocou LaTeX-\n",
    "\n",
    "Doplenia pre notebook\n",
    "\n",
    "* pretože v matematickom texte sa vyskytujú spätné lomítka, je potrebné textový reťazec s matematickými výrazmi deklarovať ako **raw** text.\n",
    "* nepoužívať pre tretiu deriváciu znak 3x apostrof, pretože to je znak ukončenia dlhého reťazca\n",
    "\n",
    "Funkcia *sprintf* akceptuje len formatovacie znaky **e,f,g**, nie je možné tlačiť string."
   ]
  },
  {
   "cell_type": "code",
   "execution_count": null,
   "metadata": {},
   "outputs": [],
   "source": [
    "sch=r'''\n",
    "T: \"$\\sqrt{\\sin(\\alpha^2) + \\cos(\\beta^2)}$\" at (5, 1);    \n",
    "\n",
    "\"$f(a)+\\frac {f'(a)}{1!} (x-a) + \n",
    "       \\frac{f''(a)}{2!} (x-a)^2 + \n",
    "       \\frac{f^{(3)}(a)}{3!}(x-a)^3 + \\cdots$\" at (5,4);   \n",
    "\n",
    "sprintf(\"Formatovany text $x=%2.3f$ \\,\\,\\,  $y=%2.3f $\", T.x, T.y) at (5, 2.5);\n",
    "'''\n",
    "\n",
    "cm_show('obr-319-2', sch, 600)"
   ]
  },
  {
   "cell_type": "markdown",
   "metadata": {},
   "source": [
    "<img src=\"./img/obr-319-2.png\" width=500, alt=\"Skript\" scale=\"0.1\"/>"
   ]
  },
  {
   "cell_type": "markdown",
   "metadata": {},
   "source": [
    "## Formátovanie textu\n",
    "\n",
    "Jaxyk *dpic* poskytuje len obmedzené možnosti formátovania textu. Ak je pre renderovanie pokužitý LaTeX, je možné používať pre úpravu textu jeho prostredia makrá\n",
    "\n",
    "    \\textit{text} \n",
    "    \\textbf{text}\n",
    "    \\underline{text} \n",
    "    \n",
    "Pre rotáciu textu je potrebné použiť makro\n",
    "\n",
    "    \\rotatebox{angle}{text}\n",
    "    \n",
    "Poloha otočeného textu je vždy v jeho strede, pridávanie medzier na začiatok alebo koniec textu neposunie stred textu."
   ]
  },
  {
   "cell_type": "code",
   "execution_count": null,
   "metadata": {},
   "outputs": [],
   "source": [
    "sch=r'''\n",
    "\"\\textit{Italic}\" at (7, 0.5);\n",
    "\"\\textbf{Bold}\" at (7, 1);\n",
    "\"\\underline{Underline}\" at (7, 1.5);\n",
    "\n",
    "for i=0 to 300 by 60 do {\n",
    "    move to ( 2 + 1*cos(i/180*pi), 2 + 1*sin(i/180*pi) );\n",
    "    sprintf(\"\\rotatebox{%g}{Text %g}\", i,i );\n",
    "}\n",
    "\n",
    "\"\\large large \\Large Large \\LARGE LARGE\" at (7,3);\n",
    "\"\\huge huge \\Huge Huge\" at (7,4);\n",
    "\n",
    "\"\\texttt{Font TT}\" at (7,5);\n",
    "\"\\textsf{Font SF}\" at (7,5.5);\n",
    "'''\n",
    "\n",
    "cm_show('obr-319-3', sch, 600)"
   ]
  },
  {
   "cell_type": "markdown",
   "metadata": {},
   "source": [
    "<img src=\"./img/obr-319-3.png\" width=500, alt=\"Skript S2\" scale=\"0.1\"/>"
   ]
  }
 ],
 "metadata": {
  "kernelspec": {
   "display_name": "Python 3",
   "language": "python",
   "name": "python3"
  },
  "language_info": {
   "codemirror_mode": {
    "name": "ipython",
    "version": 3
   },
   "file_extension": ".py",
   "mimetype": "text/x-python",
   "name": "python",
   "nbconvert_exporter": "python",
   "pygments_lexer": "ipython3",
   "version": "3.8.5"
  },
  "latex_envs": {
   "LaTeX_envs_menu_present": true,
   "autoclose": false,
   "autocomplete": true,
   "bibliofile": "biblio.bib",
   "cite_by": "apalike",
   "current_citInitial": 1,
   "eqLabelWithNumbers": true,
   "eqNumInitial": 1,
   "hotkeys": {
    "equation": "Ctrl-E",
    "itemize": "Ctrl-I"
   },
   "labels_anchors": false,
   "latex_user_defs": false,
   "report_style_numbering": false,
   "user_envs_cfg": false
  },
  "varInspector": {
   "cols": {
    "lenName": 16,
    "lenType": 16,
    "lenVar": 40
   },
   "kernels_config": {
    "python": {
     "delete_cmd_postfix": "",
     "delete_cmd_prefix": "del ",
     "library": "var_list.py",
     "varRefreshCmd": "print(var_dic_list())"
    },
    "r": {
     "delete_cmd_postfix": ") ",
     "delete_cmd_prefix": "rm(",
     "library": "var_list.r",
     "varRefreshCmd": "cat(var_dic_list()) "
    }
   },
   "types_to_exclude": [
    "module",
    "function",
    "builtin_function_or_method",
    "instance",
    "_Feature"
   ],
   "window_display": false
  }
 },
 "nbformat": 4,
 "nbformat_minor": 4
}
