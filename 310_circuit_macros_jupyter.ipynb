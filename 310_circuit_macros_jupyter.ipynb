{
 "cells": [
  {
   "cell_type": "markdown",
   "metadata": {},
   "source": [
    "# *circuit-macros* v jupyter-notebooku\n",
    "\n",
    "\n",
    "Aby bolo možné písať manuály k *circuit-macros* s demonštračnými obrázkami v notebooku, bola vyvorená podporná knižnica *cm_utils*, obsahujúca jednoduchý template pre dokumenty a pomocné funkcie pre riadenie kompilácie a zobrazenie obrázkov priamo v notebooku. \n",
    "Pre tvorbu schém je vytvorené template s definíciami pre začiatok a koniec súboru so zapojením tak, aby bolo možné v notebooku editovať len vlastné zapojenie.\n",
    "\n",
    "## Obsah pomocnej knižnice *cm_utils*\n",
    "\n",
    "Template pozostáva z textového reťazca pre záhlavie (*cm_start* )a koniec súboru (*cm_end*). Záhlavie obsahuje inicializáciu, nastavenie rozmerov obrázkov a zobrazenie pomocnej mriežky pre kreslenie. Funkcia *cm_show()* vytvorí súbor so zapojením, skompiluje zapojenie a vyvolá zobrazenie obrázku v notebooku. Pri klasickom spôsobe zobrazenia pomocou hrml-tagov totiž nedôjde pri zmene obrázku k jeho aktualizácii, pretože sa zobrazuje verzia uložená v cache prehliadača. "
   ]
  },
  {
   "cell_type": "code",
   "execution_count": null,
   "metadata": {},
   "outputs": [],
   "source": [
    "cm_start = '''           # zahlavie suboru\n",
    ".PS\n",
    "scale = 2.54             # cm - jednotka pre obrazok\n",
    "maxpswid = 30            # rozmery obrazku\n",
    "maxpsht = 30             # 30 x 30cm, default je 8.5x11 inch\n",
    "cct_init                 # inicializacia lokalnych premennych\n",
    "\n",
    "arrowwid  = 0.127        # parametre sipok - sirka\n",
    "arrowht = 0.254          # dlzka\n",
    "\n",
    "include(./img/user.ckt)  # externa kniznica komponentov \n",
    "                         # *** upravit podla aktualnej cesty *** \n",
    "\n",
    "size_x = 10\n",
    "size_y = 6\n",
    "d = 2;                   # 1cm zakladna dlzka, d=2cm\n",
    "\n",
    "# mriezka\n",
    "move to (-0.5, size_y/2); grid(size_x, size_y); move to 0,0;\n",
    "'''\n",
    "\n",
    "cm_end = '''             # template pre koniec suboru\n",
    ".PE\n",
    "'''\n",
    "\n",
    "def cm_show(file_name, cm_data='', width=400):\n",
    "    '''\n",
    "    Funkcie pre preklad a zobrazenie obrazku v notebooku\n",
    "    '''\n",
    "    fp = open('./img/' + file_name + '.ckt', 'w'); \n",
    "    fp.write(cm_start + cm_data + cm_end); \n",
    "    fp.close()\n",
    "\n",
    "    cm2ps('./img/' + file_name + '.ckt' ); \n",
    "    show_png('./img/' + file_name + '.png', width)"
   ]
  },
  {
   "cell_type": "markdown",
   "metadata": {},
   "source": [
    "## Použitie v notebooku\n",
    "\n",
    "Príklad vytvorenia popisu zapojenia v textovom reťazci, jeho kompilácia a zobrazenie. Pri kompilácii sa vytvárajú v adresári *./img/* obrázky vo formáte *.eps* a *.png*."
   ]
  },
  {
   "cell_type": "code",
   "execution_count": null,
   "metadata": {},
   "outputs": [],
   "source": [
    "from img.cm_utils import *\n",
    "\n",
    "data='''                             # vlastne zapojenie ako textovy retazec\n",
    "move to (2,3)                        # bez zahlavia a konca suboru                \n",
    "R1: resistor(d,E); rlabel(,R1,); \n",
    "dot;\n",
    "{\n",
    "    up_;\n",
    "    R3: resistor(d,E); rlabel(,R3,);\n",
    "}\n",
    "down_;\n",
    "R2: resistor(d,E); rlabel(,R2,);\n",
    "gnd;\n",
    "'''\n",
    "\n",
    "cm_show('obr-04', data, 400)         # kompilacia a zobrazenie"
   ]
  },
  {
   "cell_type": "markdown",
   "metadata": {},
   "source": [
    "Zobrazenie vygenerovaného obrázku vo formáte *.png*. \n",
    "\n",
    "<img src=\"./img/obr-04.png\" width=400, alt=\"Obrázok z príkladu\" scale=\"0.1\"/>"
   ]
  }
 ],
 "metadata": {
  "kernelspec": {
   "display_name": "Python 3",
   "language": "python",
   "name": "python3"
  },
  "language_info": {
   "codemirror_mode": {
    "name": "ipython",
    "version": 3
   },
   "file_extension": ".py",
   "mimetype": "text/x-python",
   "name": "python",
   "nbconvert_exporter": "python",
   "pygments_lexer": "ipython3",
   "version": "3.8.5"
  },
  "latex_envs": {
   "LaTeX_envs_menu_present": true,
   "autoclose": false,
   "autocomplete": true,
   "bibliofile": "biblio.bib",
   "cite_by": "apalike",
   "current_citInitial": 1,
   "eqLabelWithNumbers": true,
   "eqNumInitial": 1,
   "hotkeys": {
    "equation": "Ctrl-E",
    "itemize": "Ctrl-I"
   },
   "labels_anchors": false,
   "latex_user_defs": false,
   "report_style_numbering": false,
   "user_envs_cfg": false
  },
  "varInspector": {
   "cols": {
    "lenName": 16,
    "lenType": 16,
    "lenVar": 40
   },
   "kernels_config": {
    "python": {
     "delete_cmd_postfix": "",
     "delete_cmd_prefix": "del ",
     "library": "var_list.py",
     "varRefreshCmd": "print(var_dic_list())"
    },
    "r": {
     "delete_cmd_postfix": ") ",
     "delete_cmd_prefix": "rm(",
     "library": "var_list.r",
     "varRefreshCmd": "cat(var_dic_list()) "
    }
   },
   "types_to_exclude": [
    "module",
    "function",
    "builtin_function_or_method",
    "instance",
    "_Feature"
   ],
   "window_display": false
  }
 },
 "nbformat": 4,
 "nbformat_minor": 4
}
