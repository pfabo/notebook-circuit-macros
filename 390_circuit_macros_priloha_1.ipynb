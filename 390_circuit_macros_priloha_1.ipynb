{
 "cells": [
  {
   "cell_type": "markdown",
   "metadata": {},
   "source": [
    "# Príloha 1. Použitie PyCirkuit v Jupyter-Notebooku\n",
    "\n",
    "Pre špeciálne použitie môžeme vyvolať *PyCirkuit* aj z prostredia jupyter-notebooku, napr. ak potrebujeme v priamo notebooku vytvárať obrázky pomocou unifikovaného template.  \n",
    "\n",
    "Template sa nachádza v adresári *./img/* spolu s knižnicou doplnkových komponentov *user.ckt*. Pomocou funkcie *create_cm()* z pomocnéj knižnice *cm_utils* sa z template vygeneruje nový súbor s definíciou makier, tento je vhodné uložiť do adresáru *./img/* pre budúci export do LaTex-u.\n",
    "  "
   ]
  },
  {
   "cell_type": "code",
   "execution_count": null,
   "metadata": {},
   "outputs": [],
   "source": [
    "from img.cm_utils import *\n",
    "import os\n",
    "\n",
    "create_cm('./img/obr-03.ckt', overwrite='No')"
   ]
  },
  {
   "cell_type": "markdown",
   "metadata": {},
   "source": [
    "### Editovanie zapojenia \n",
    "\n",
    "Vytváranie zapojenia je pomocou externého editora *pycirkuit*, ktorý umožňuje náhľad schémy a jej export (nastavenie v konfigurácii) do obrázku *png*. "
   ]
  },
  {
   "cell_type": "code",
   "execution_count": null,
   "metadata": {},
   "outputs": [],
   "source": [
    "_ = os.system('pycirkuit ./img/obr-03.ckt &')"
   ]
  },
  {
   "cell_type": "markdown",
   "metadata": {},
   "source": [
    "V PyCirkuit vytvoríme zapojenie\n",
    "\n",
    "    .PS\n",
    "    pi=3.14159265359\n",
    "                            # parametre z PIC (resp. GNU PIC)\n",
    "    scale = 2.54            # cm - jednotka pre obrazok\n",
    "    maxpswid = 30           # rozmery obrazku\n",
    "    maxpsht = 30            # 30 x 30cm, default je 8.5x11 inch\n",
    "    cct_init                # inicializacia lokalnych premennych\n",
    "\n",
    "    arrowwid  = 0.127       # parametre sipok - sirka\n",
    "    arrowht = 0.254         # dlzka\n",
    "    include(user.ckt)       # externa kniznica\n",
    "    #-----------------------------------------------------------------------\n",
    "    Origin: Here \n",
    "    size_x = 10\n",
    "    size_y = 6\n",
    "    d = 2;                  # 1cm zakladna dlzka\n",
    "\n",
    "    # mriezka\n",
    "    move to (-0.5, size_y/2); grid(size_x, size_y); move to 0,0;\n",
    "    #=======================================================================\n",
    "    move to 1,3\n",
    "    R1: resistor(d, E); llabel(,R_1,); dot;\n",
    "    {\n",
    "      right_;\t\n",
    "      R3: resistor(d, E); llabel(,R_3,);\n",
    "    }\n",
    "\n",
    "    {\n",
    "      up_;\n",
    "      R4: resistor(d, E); llabel(,R_4,);\n",
    "    }\n",
    "\n",
    "    down_;\n",
    "    R2: resistor(d, E); rlabel(,R_2,);\n",
    "    gnd;\n",
    "\n",
    "    .PE\n",
    "\n",
    "\n",
    "Obrázok vygenerovany pomocou PyCirkuit, zobrazenie je pomocou funkcie, pretože aktuálny stav obrázku vyžaduje refreš cache prehliadača. "
   ]
  },
  {
   "cell_type": "code",
   "execution_count": null,
   "metadata": {},
   "outputs": [],
   "source": [
    "show_png('./img/obr-03.png', 500)"
   ]
  },
  {
   "cell_type": "markdown",
   "metadata": {},
   "source": [
    "<img src=\"./img/obr-03.png\" width=400, alt=\"Zobrazenie vystupu z PyCirkuit\" scale=\"0.8\"/>"
   ]
  }
 ],
 "metadata": {
  "kernelspec": {
   "display_name": "Python 3",
   "language": "python",
   "name": "python3"
  },
  "language_info": {
   "codemirror_mode": {
    "name": "ipython",
    "version": 3
   },
   "file_extension": ".py",
   "mimetype": "text/x-python",
   "name": "python",
   "nbconvert_exporter": "python",
   "pygments_lexer": "ipython3",
   "version": "3.8.5"
  },
  "latex_envs": {
   "LaTeX_envs_menu_present": true,
   "autoclose": false,
   "autocomplete": true,
   "bibliofile": "biblio.bib",
   "cite_by": "apalike",
   "current_citInitial": 1,
   "eqLabelWithNumbers": true,
   "eqNumInitial": 1,
   "hotkeys": {
    "equation": "Ctrl-E",
    "itemize": "Ctrl-I"
   },
   "labels_anchors": false,
   "latex_user_defs": false,
   "report_style_numbering": false,
   "user_envs_cfg": false
  },
  "varInspector": {
   "cols": {
    "lenName": 16,
    "lenType": 16,
    "lenVar": 40
   },
   "kernels_config": {
    "python": {
     "delete_cmd_postfix": "",
     "delete_cmd_prefix": "del ",
     "library": "var_list.py",
     "varRefreshCmd": "print(var_dic_list())"
    },
    "r": {
     "delete_cmd_postfix": ") ",
     "delete_cmd_prefix": "rm(",
     "library": "var_list.r",
     "varRefreshCmd": "cat(var_dic_list()) "
    }
   },
   "types_to_exclude": [
    "module",
    "function",
    "builtin_function_or_method",
    "instance",
    "_Feature"
   ],
   "window_display": false
  }
 },
 "nbformat": 4,
 "nbformat_minor": 4
}
