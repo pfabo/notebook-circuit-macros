{
 "cells": [
  {
   "cell_type": "markdown",
   "metadata": {},
   "source": [
    "# Circuit-Macros\n",
    "\n",
    "\n",
    "Knižnica [Circuit-Macros](https://ece.uwaterloo.ca/~aplevich/Circuit_macros/) (CM) je je rozšírenim programovacieho jazyka [*dpic*](https://ece.uwaterloo.ca/~aplevich/dpic/dpic-doc.pdf) (určného pre kreslenie diagramov a grafov, staršia verzia je označovaná ako *gpic*) pomocou súboru makier pre makroprocesor *m4*. Pomocou tohoto rozšírenia je možné vytvárať elektrické zapojenia a schémy, zároveň je možné v nich používať aj grafické prvky jazyka *dpic*.\n",
    "\n",
    "Makrá expandujú značky elektronických prvkov do množiny príkazov jazyka *pic*, výsledný program je pomocou kompilátora preložený do grafických príkazov vektorovej grafiky (*.ps*, *.svg* ...) alebo do makier *pstricks* pre priame vloženie do dokumentov LaTeX-u.\n",
    "\n",
    "Kreslenie zapojení je možné vytváraním textového popisu obvodu \n",
    "\n",
    "* pomocou integrovaného editora a prehliadača vytvorného obvodu PyCirkuit\n",
    "* pomocou ľubovolného textového editora a následne preložením pomocou príkazov z konzoly do zvoleného vektorového formátu a prípade potreby jeho konvertovaním do bitového formátu\n",
    "* niektorým z predchádzajúcich spôsobov vytvorením súboru s *pstricks* makrami, ktoré sa vložia do LaTex-vého zdrojového textu dokumentu\n",
    "\n",
    "Knižnica CM poskytuje aj možnosť programového generovanie schém a zapojení napr. ako vizualizácia výsledoku optimalizačných programov, náhradných schém a pod.\n"
   ]
  },
  {
   "cell_type": "markdown",
   "metadata": {},
   "source": [
    "## Inštalácia\n",
    "\n",
    "Knižnica *circuit-macros* je súčasťou štandardných repozitárov\n",
    "\n",
    "    sudo apt-get install circuit-macros\n",
    "    \n",
    "Inštalácia a popis programu *PyCirkuit* je uvedená v Ďaľšej kapitole.\n",
    "\n",
    "### Závislosti a podporné programy\n",
    "\n",
    "Podporné programy a utility\n",
    "\n",
    "    m4          - štandardná súčasť distribúcií Linuxu\n",
    "    dpic        - kompilátor jazyka pic - súčasť distribúcií\n",
    "    latex       - s podporou pre pstricks a podpornými programami (dvips)\n",
    "    imagemagick - pre konverziu grafických formátov\n",
    "\n",
    "#### Poznámka k *imagemagick*\n",
    "\n",
    "Pre konverziu vektorových do bitových formátov vyžaduje program *convert* z balíku *imagemagick* povolenie pre konverziu *ps, eps a pdf* súborov, štandardne je táto konverzia zakázaná. Povolenie je možné nastaviť v súbore *policy.xml*:\n",
    "\n",
    "    remove this whole following section from /etc/ImageMagick-6/policy.xml:\n",
    "    <!-- disable ghostscript format types -->\n",
    "    <policy domain=\"coder\" rights=\"none\" pattern=\"PS\" />\n",
    "    <policy domain=\"coder\" rights=\"none\" pattern=\"EPS\" />\n",
    "    <policy domain=\"coder\" rights=\"none\" pattern=\"PDF\" />"
   ]
  }
 ],
 "metadata": {
  "kernelspec": {
   "display_name": "Python 3",
   "language": "python",
   "name": "python3"
  },
  "language_info": {
   "codemirror_mode": {
    "name": "ipython",
    "version": 3
   },
   "file_extension": ".py",
   "mimetype": "text/x-python",
   "name": "python",
   "nbconvert_exporter": "python",
   "pygments_lexer": "ipython3",
   "version": "3.8.5"
  },
  "latex_envs": {
   "LaTeX_envs_menu_present": true,
   "autoclose": false,
   "autocomplete": true,
   "bibliofile": "biblio.bib",
   "cite_by": "apalike",
   "current_citInitial": 1,
   "eqLabelWithNumbers": true,
   "eqNumInitial": 1,
   "hotkeys": {
    "equation": "Ctrl-E",
    "itemize": "Ctrl-I"
   },
   "labels_anchors": false,
   "latex_user_defs": false,
   "report_style_numbering": false,
   "user_envs_cfg": false
  },
  "varInspector": {
   "cols": {
    "lenName": 16,
    "lenType": 16,
    "lenVar": 40
   },
   "kernels_config": {
    "python": {
     "delete_cmd_postfix": "",
     "delete_cmd_prefix": "del ",
     "library": "var_list.py",
     "varRefreshCmd": "print(var_dic_list())"
    },
    "r": {
     "delete_cmd_postfix": ") ",
     "delete_cmd_prefix": "rm(",
     "library": "var_list.r",
     "varRefreshCmd": "cat(var_dic_list()) "
    }
   },
   "types_to_exclude": [
    "module",
    "function",
    "builtin_function_or_method",
    "instance",
    "_Feature"
   ],
   "window_display": false
  }
 },
 "nbformat": 4,
 "nbformat_minor": 4
}
