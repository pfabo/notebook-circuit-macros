{
 "cells": [
  {
   "cell_type": "markdown",
   "metadata": {},
   "source": [
    "# Vytváranie uživateľských makier\n",
    "\n",
    "Makrá sa definujú podľa syntaxe makroprocesora *m4*. Všeobecný tvar makra je\n",
    "\n",
    "    define (name, [expansion])\n",
    "    \n",
    "Reťazec *name* je nahradený reťazcom *expansion*. Príklad\n",
    "\n",
    "    define(`foo', `Hello world.')\n",
    "\n",
    "po spracovaní dostaneme\n",
    "\n",
    "    foo\n",
    "    Hello world.\n",
    "\n",
    "Makro môže mať argumenty, tieto sú označované ako $\\$1$, $\\$2$ ... , špaciálny význam má $\\$0$, ktorá obsahuje meno makra. Príklad makra, ktoré vymení poradie argumentov\n",
    "\n",
    "    define(`exch', `$2, $1')\n",
    "  \n",
    "po spracovaní dostaneme\n",
    "\n",
    "    exch(`arg1', `arg2')\n",
    "    arg2, arg1\n",
    "\n",
    "Na základe hodnôt parametron môžeme makrá parametrizovať. Nižšie je uvedené makro pre zobrazenie spínača s parametrami dĺžka spínača a stav (ON, OFF) spínača. Aby bol komponent presne umiestnený v mriežke bez ohľadu na jeho aktuálne grafické zobrazenie, je vhodné ho umiestniť do neviditeľného boxu s fixnými rozmermi. Pre vonkajší box potom platia štandardné atribúty.  \n",
    "\n",
    "#### Poznámka\n",
    "\n",
    "Substitučné reťazce v makrách *m4* začínajú znakom spätného apostrofu chr(96) a končia znakom apostrofu chr(39).\n",
    "\n",
    "### Príklad\n",
    "\n",
    "Makro definúce spínač v stave ON a OFF s definovateľnou dĺžkou prívodov. Je zobrazený vonkajší box."
   ]
  },
  {
   "cell_type": "code",
   "execution_count": null,
   "metadata": {},
   "outputs": [],
   "source": [
    "from img.cm_utils import *\n",
    "\n",
    "sch=r'''\n",
    "\n",
    "define(`swh',`[\n",
    "\n",
    "    B: box ht 1 wid $1 dotted 0.04 #invis;            # neviditelny  box\n",
    "    rr = 0.15;\n",
    "    p = 1.5; \n",
    "    \n",
    "    C1: circle diameter rr at  B.c + (rr/2 - p/4, 0)\n",
    "    C2: circle diameter rr at  B.c + (-rr/2 + p/4, 0) fill 0;\n",
    "    line from C1.w to B.w\n",
    "    line from C2.e to B.e\n",
    "    ifinstr($2,OFF,\n",
    "            {\n",
    "                line from C2.c to C1.c + (0, p/4)\n",
    "            },\n",
    "            {\n",
    "                line from C2.c to C1.c \n",
    "            }\n",
    "        );\n",
    "]')\n",
    "\n",
    "move to (1,3);\n",
    "swh(1, OFF);\n",
    "swh(1, ON);\n",
    "swh(2, OFF);\n",
    "dot;\n",
    "{ line up_   1; right_; S1: swh(2, OFF); \"$S_1$\" at S1.n; }\n",
    "{ line down_ 1; right_; S2: swh(2, OFF); \"$S_2$\" at S2.n; }\n",
    "\n",
    "'''\n",
    "\n",
    "cm_show('obr-327-1', sch, 600)"
   ]
  },
  {
   "cell_type": "markdown",
   "metadata": {},
   "source": [
    "<img src=\"./img/obr-327-1.png\" width=500, alt=\"Skript\" scale=\"0.1\"/>"
   ]
  }
 ],
 "metadata": {
  "kernelspec": {
   "display_name": "Python 3",
   "language": "python",
   "name": "python3"
  },
  "language_info": {
   "codemirror_mode": {
    "name": "ipython",
    "version": 3
   },
   "file_extension": ".py",
   "mimetype": "text/x-python",
   "name": "python",
   "nbconvert_exporter": "python",
   "pygments_lexer": "ipython3",
   "version": "3.8.5"
  },
  "latex_envs": {
   "LaTeX_envs_menu_present": true,
   "autoclose": false,
   "autocomplete": true,
   "bibliofile": "biblio.bib",
   "cite_by": "apalike",
   "current_citInitial": 1,
   "eqLabelWithNumbers": true,
   "eqNumInitial": 1,
   "hotkeys": {
    "equation": "Ctrl-E",
    "itemize": "Ctrl-I"
   },
   "labels_anchors": false,
   "latex_user_defs": false,
   "report_style_numbering": false,
   "user_envs_cfg": false
  },
  "varInspector": {
   "cols": {
    "lenName": 16,
    "lenType": 16,
    "lenVar": 40
   },
   "kernels_config": {
    "python": {
     "delete_cmd_postfix": "",
     "delete_cmd_prefix": "del ",
     "library": "var_list.py",
     "varRefreshCmd": "print(var_dic_list())"
    },
    "r": {
     "delete_cmd_postfix": ") ",
     "delete_cmd_prefix": "rm(",
     "library": "var_list.r",
     "varRefreshCmd": "cat(var_dic_list()) "
    }
   },
   "types_to_exclude": [
    "module",
    "function",
    "builtin_function_or_method",
    "instance",
    "_Feature"
   ],
   "window_display": false
  }
 },
 "nbformat": 4,
 "nbformat_minor": 4
}
