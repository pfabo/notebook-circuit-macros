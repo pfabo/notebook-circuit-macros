{
 "cells": [
  {
   "cell_type": "markdown",
   "metadata": {},
   "source": [
    "# Syntax\n",
    "\n",
    "\n",
    "## Komentáre\n",
    "\n",
    "Komentáre začínajú znakom # do konca riadku ukončeného znakom \\\\n. Blokové komentáre nie sú definované, je ale možné použiť viacriadkové komentáre s riadkami ukončenými \\\\\\\\.\n",
    "\n",
    "    # toto je jednoriadkovy komentar\n",
    "    # toto je dvojriadkovy komentar        \\\\\n",
    "      a jeho pokracovanie na dalsom riadku\n",
    "      \n",
    "White-space sú ignorované\n",
    "\n",
    "    name( x,\n",
    "    y, z )\n",
    "\n",
    "je ekvivalent\n",
    "\n",
    "    name(x,y,z)\n",
    "\n",
    "\n",
    "## Hodnoty\n",
    "\n",
    "Numerické hodnoty môžu obsahovať desatinnú bodku alebo môžu byť vo vedeckom formáte. Všetky numerické hodnoty sú interne uchovávané vo formáte floating-point. Hodnoty súradníc sú zapísané usporiadanou dvojicou *(x,y)*, každá súradnica impicitne obsahuje atribúty *x* a *y*.\n",
    "\n",
    "   \n",
    "## Premenné \n",
    "\n",
    "Meno premennej skalárnej musí začínať písmenom nasledovaným ľubovolným počtom alfanumerických znakov. Premenné sú globálne a majú platnosť v celom kóde.\n",
    "\n",
    "    d=2;\n",
    "    pi=3.14159265359;\n",
    "    q=2*pi*8;\n",
    "    \n",
    "Súradnice sú reprezentované ako dvojice (x,y) a nemôžu byť použité ako hodnoty premennej.\n",
    "\n",
    "Textové premenné sú definované v obyčajných úvodzovkách\n",
    "\n",
    "    str = \"Toto je text\";\n",
    "    \n",
    "Po inicializácii skriptu vyvolaním *cct_init* sú vytvorené preddefinované premenné, ktorými je možné nastavovať parametre kreslenia, napr.\n",
    "\n",
    "    Here      - posledná poloha (read only)\n",
    "    \n",
    "    scale     - definuje jednotky, štandardne je 1 inch\n",
    "    arrowwid  - parametre sipok - sirka\n",
    "    arrowht   - parametre sipok - dlzka\n",
    "    ...\n",
    "\n",
    "\n",
    "### Konflikt mien\n",
    "\n",
    "* Niektoré makrá definujú premenné, ktoré môžu byť príčinou konfliktov. Napr makro *setrgb()* vytvára premenné *r_* , *g_*, *b_*, kde prvá vytvorí konflikt, ak potrebujeme označiť rezistor pomocou syntaxe v LaTex-u napr. *r_1*. V takomto prípade je potrebné v reťazci pre LaTeX použiť formálne prerušenie reťazca *r\\\\_1*.\n",
    "\n",
    "* Nie je možné v zobrazovanom texte použiť mená makra, pretože pri substitúcii dôjde k nahradeniu textu a následnému konfliktu. \n",
    "\n",
    "    \n",
    "## Referencie \n",
    "\n",
    "Každá entita v CM môže byť označená referenciou, prostredníctvom ktorej je možné odkazovať sa na jej atribúty (ak sú definované). Meno referencie musí začínať veľkým písmenom nasledovaným ľubovolným počtom alfanumerických znakov.\n",
    "\n",
    "    R1: resistor();\n",
    "    \n",
    "Referenciou je možné označiť aj súradnice.\n",
    "    \n",
    "    Stred: (5,6);\n",
    "    \n",
    "Pomocou referencií je možné pristupovať k individuálnym atribútom komponentov, napr:\n",
    "\n",
    "    Stred.x  - má hodnotu 5\n",
    "    Stred.y  - má hodnotu 6\n"
   ]
  },
  {
   "cell_type": "markdown",
   "metadata": {},
   "source": [
    "## Skript\n",
    "\n",
    "Skript v jazyku *pic* začína postupnosťou *.PS* nasledovannou nepovinnými parametrami s rozmerom obrázka  a končí *.PE*. \n",
    "\n",
    "    .PS [width [height]]\n",
    "    \n",
    "        instrukcia;\n",
    "        ...\n",
    "        \n",
    "    .PE \n",
    "    \n",
    "Text za koncom skriptu je ignorovaný. Ukončenie skriptu môžeme prakticky využiť pri hľadaní chýb v skripte, kedy pomocou *.PE* vyradíme zbytok skriptu zo zobrazovania."
   ]
  },
  {
   "cell_type": "markdown",
   "metadata": {},
   "source": [
    "## Inštrukcie a príkazy\n",
    "\n",
    "Inštrukcia (statement ke jeden alebo viacej príkazov) končiacich znakom bodkočiarky *;* alebo znakom konca riadku. Je vhodné implicitne používať znak konca riadku vždy, pri prípadnom dopĺňaní skriptu sa obmedzí vznik chýb. \n",
    "\n",
    "    resistor() ;    # inštrukcie končí znakom ;\n",
    "    capacitor()     # inštrukcia končí \\n"
   ]
  },
  {
   "cell_type": "markdown",
   "metadata": {},
   "source": [
    "## Bloky\n",
    "\n",
    "Premenné uzatvorené v bloku {...} majú lokálnu platnosť, referencie na polohy majú platnosť globálnu. Kód v bloku sa vzťahuje k poslednej aktuálnej polohe a nemení ju, je preto používaný na kreslenie vetiev obvodov vzľadom k referenčnej polohe.  \n",
    "\n",
    "    d = 2;\n",
    "    {\n",
    "        d = 0.4;\n",
    "        Q: (1,1);          # globálná definícia polohy\n",
    "        ...\n",
    "    }\n",
    "    line from Q right_ d   # d má hodnotu 2"
   ]
  },
  {
   "cell_type": "markdown",
   "metadata": {},
   "source": [
    "## Riadenie toku\n",
    "\n",
    "### Cyklus\n",
    "\n",
    "Jednoduchý cyklus s premennou $x$ má tvar\n",
    "\n",
    "    for x = 1 to 10 by 2 do { line from (0,0) to (5,x); }\n",
    "    \n",
    "kde v zložených zátvorkách je telo cyklu, toto má vlastnosti bloku s relatívnymi súradnicami vztiahnutými k začiatku cyklu. \n",
    "\n",
    "\n",
    "### Vetvenie\n",
    "\n",
    "Základný formát vetvenia toku programu má tvar\n",
    "\n",
    "    if expression then { if-true } else { if-false }"
   ]
  }
 ],
 "metadata": {
  "kernelspec": {
   "display_name": "Python 3",
   "language": "python",
   "name": "python3"
  },
  "language_info": {
   "codemirror_mode": {
    "name": "ipython",
    "version": 3
   },
   "file_extension": ".py",
   "mimetype": "text/x-python",
   "name": "python",
   "nbconvert_exporter": "python",
   "pygments_lexer": "ipython3",
   "version": "3.8.5"
  },
  "latex_envs": {
   "LaTeX_envs_menu_present": true,
   "autoclose": false,
   "autocomplete": true,
   "bibliofile": "biblio.bib",
   "cite_by": "apalike",
   "current_citInitial": 1,
   "eqLabelWithNumbers": true,
   "eqNumInitial": 1,
   "hotkeys": {
    "equation": "Ctrl-E",
    "itemize": "Ctrl-I"
   },
   "labels_anchors": false,
   "latex_user_defs": false,
   "report_style_numbering": false,
   "user_envs_cfg": false
  },
  "varInspector": {
   "cols": {
    "lenName": 16,
    "lenType": 16,
    "lenVar": 40
   },
   "kernels_config": {
    "python": {
     "delete_cmd_postfix": "",
     "delete_cmd_prefix": "del ",
     "library": "var_list.py",
     "varRefreshCmd": "print(var_dic_list())"
    },
    "r": {
     "delete_cmd_postfix": ") ",
     "delete_cmd_prefix": "rm(",
     "library": "var_list.r",
     "varRefreshCmd": "cat(var_dic_list()) "
    }
   },
   "types_to_exclude": [
    "module",
    "function",
    "builtin_function_or_method",
    "instance",
    "_Feature"
   ],
   "window_display": false
  }
 },
 "nbformat": 4,
 "nbformat_minor": 4
}
