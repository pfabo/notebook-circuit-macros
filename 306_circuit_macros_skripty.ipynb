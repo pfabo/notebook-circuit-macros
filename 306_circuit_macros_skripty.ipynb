{
 "cells": [
  {
   "cell_type": "markdown",
   "metadata": {},
   "source": [
    "# Použitie *circuit-macros* z konzoly\n",
    "\n",
    "Proces vytvárania zapojenia, jeho komplácie a konverzie do výsledného grafického formátu môžeme urobiť aj ručne priamo z konzoly systému. V nasledujúcom texte sú použité označenia\n",
    "\n",
    "    PATH_TO_CM_MACROS - cesta k inštalácii circuit-macros\n",
    "    SOURCE_FILE       - zdrojový textový súbor s vytvoreným zapojením\n",
    "    PIC_FILE          - vystupny subor predpropcesora m4 s prikazmi gpic       \n",
    "    PSTRICK_FILE      - kompilovanu subor s prikazmi pre pstricks\n",
    "    LATEX_FILE        - finalny LaTeX súbor"
   ]
  },
  {
   "cell_type": "markdown",
   "metadata": {},
   "source": [
    "## Preklad a kompilácia s využitím LaTex-u\n",
    "\n",
    "Najprv uvedieme komplikovanejší postup s využitím renderovania textov v LaTex-e a s využitím makier PSTricks, predpokladáme, že LaTex s príslušnými modulmi máte už nainštalovaný. V prvom kroku preložíme naše zapojenie pomocou makroprocesora do príkazov jazyka PIC\n",
    "\n",
    "    m4 -I PATH_TO_CM_MACROS pstricks.m4 SOURCE_FILE > PIC_FILE\n",
    "\n",
    "<!-- MEDSKIP -->\n",
    "\n",
    "v príkaze zadefinujeme cestu k adresáru, kde sme rozbalili makrá z archívu, náš zdrojový súbor so zapojením a zvolíme meno súboru, do ktorého sa uložia príkazy v PIC. *pstricks.m4* obsahuje sadu pomocných makier pre finálny výstup. \n",
    "\n",
    "V druhom kroku súbor v jazyku PIC do sady makier *pstricks* preložíme pomocou\n",
    "\n",
    "    dpic -p PIC_FILE > PSTRICK_FILE\n",
    "\n",
    "<!-- MEDSKIP -->\n",
    "\n",
    "Výsledkom prekladu je zdrojový text pre LaTexu-u s príkazmi pre *pstricks*, ktorý má štandardný tvar\n",
    "\n",
    "    \\begin{pspicture}  ...  \\end{pspicture}\n",
    "\n",
    "<!-- MEDSKIP -->\n",
    "\n",
    "Skompilovaný súbor už môžeme vložiť do dokumentu v LaTex-u a ďalej s ním pracovať. Pretože pri kreslení schém potrebuje priebžne sledovať výsledok práce, pre renderovanie obrázku zapojenia do postscriptu môžeme použiť krátky dokument (LATEX_FILE)\n",
    "\n",
    "    \\documentclass{article}\n",
    "    \\usepackage{times,pstricks,pst-eps,pst-grad}\n",
    "    \\usepackage{graphicx}\n",
    "    \\begin{document}\n",
    "    \\begin{TeXtoEPS}\n",
    "    ...\n",
    "    \\input PSTRICK_FILE        <- menu skompilovaneho suboru bez pripony\n",
    "    ...\n",
    "    \\end{TeXtoEPS}\\end{document}\n",
    "\n",
    "<!-- MEDSKIP -->\n",
    "\n",
    "ktorý preložíme \n",
    "\n",
    "    latex LATEX_FILE      <- bez pripony .tex\n",
    "    dvips -E LATEX_FILE   <- bez pripony .aux\n",
    "    \n",
    "Výsledkom prekladu je obrázok vo formáte postscript. Aj keď uvedený postup vyzerá komplikovane, jednoduché skripty v pythone alebo shell-e problém vyriešia. "
   ]
  },
  {
   "cell_type": "markdown",
   "metadata": {},
   "source": [
    "## Preklad a kompilácia bez využitia LaTex-u\n",
    "\n",
    "Pri jednoduchšom spôsobe grafický súbor vygeneruje priamo kompilátor *dpic*, samozrejme ale bez renderovania textov LaTex-om.\n",
    "\n",
    "    m4 -I PATH_TO_CM_MACROS postscript.m4 SOURCE_FILE | dpic -r > PS_FILE\n",
    "    \n"
   ]
  }
 ],
 "metadata": {
  "kernelspec": {
   "display_name": "Python 3",
   "language": "python",
   "name": "python3"
  },
  "language_info": {
   "codemirror_mode": {
    "name": "ipython",
    "version": 3
   },
   "file_extension": ".py",
   "mimetype": "text/x-python",
   "name": "python",
   "nbconvert_exporter": "python",
   "pygments_lexer": "ipython3",
   "version": "3.8.5"
  },
  "latex_envs": {
   "LaTeX_envs_menu_present": true,
   "autoclose": false,
   "autocomplete": true,
   "bibliofile": "biblio.bib",
   "cite_by": "apalike",
   "current_citInitial": 1,
   "eqLabelWithNumbers": true,
   "eqNumInitial": 1,
   "hotkeys": {
    "equation": "Ctrl-E",
    "itemize": "Ctrl-I"
   },
   "labels_anchors": false,
   "latex_user_defs": false,
   "report_style_numbering": false,
   "user_envs_cfg": false
  },
  "varInspector": {
   "cols": {
    "lenName": 16,
    "lenType": 16,
    "lenVar": 40
   },
   "kernels_config": {
    "python": {
     "delete_cmd_postfix": "",
     "delete_cmd_prefix": "del ",
     "library": "var_list.py",
     "varRefreshCmd": "print(var_dic_list())"
    },
    "r": {
     "delete_cmd_postfix": ") ",
     "delete_cmd_prefix": "rm(",
     "library": "var_list.r",
     "varRefreshCmd": "cat(var_dic_list()) "
    }
   },
   "types_to_exclude": [
    "module",
    "function",
    "builtin_function_or_method",
    "instance",
    "_Feature"
   ],
   "window_display": false
  }
 },
 "nbformat": 4,
 "nbformat_minor": 4
}
