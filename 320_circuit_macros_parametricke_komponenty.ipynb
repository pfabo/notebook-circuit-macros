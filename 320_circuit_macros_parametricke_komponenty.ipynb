{
 "cells": [
  {
   "cell_type": "markdown",
   "metadata": {},
   "source": [
    "# Parametrické komponenty\n",
    "\n",
    "V CM je možné vlastnosti niektorých komponentov definovať pomocou parametrov, zvyčajne u komponentov, ktoré obsahujú opakujúce sa časti, napríklad konektory, vstupy logických hradiel a pod."
   ]
  },
  {
   "cell_type": "code",
   "execution_count": null,
   "metadata": {},
   "outputs": [],
   "source": [
    "from img.cm_utils import *\n",
    "\n",
    "sch='''\n",
    "log_init;         # inicializacia makier pre logicke obvody\n",
    "d=2;\n",
    "\n",
    "move to (3,1.5);\n",
    "up_; \n",
    "H1: Header(2, 6,,,fill_(0.9)); \n",
    "\"Konektor\" at H1.w rjust;\n",
    "\"1\" at H1.P1 rjust;\n",
    "\"2\" at H1.P2 rjust;\n",
    "\"11\" at H1.P11 ljust;\n",
    "\"12\" at H1.P12 ljust;\n",
    "\n",
    "line from H1.P1 down_ d/4 then right_ 2*d;\n",
    "line from H1.P2 up_ d/4 then right_ 2*d;\n",
    "\n",
    "\n",
    "move to (3, 5);\n",
    "right_; G1: NAND_gate(4); \n",
    "\n",
    "line from G1.In1 left_ d/2;\n",
    "line from G1.In2 left_ d/2;\n",
    "line from G1.In3 left_ d/2;\n",
    "line from G1.In4 left_ d/2;\n",
    "line from G1.Out right_ d/2;\n",
    "'''\n",
    "\n",
    "cm_show('obr-320-1', sch, 500)"
   ]
  },
  {
   "cell_type": "markdown",
   "metadata": {},
   "source": [
    "<img src=\"./img/obr-320-1.png\" width=500, alt=\"Skript\" scale=\"0.1\"/>"
   ]
  },
  {
   "cell_type": "markdown",
   "metadata": {},
   "source": [
    "Pri parametrických komponentoch môžeme použiť dynamické vytváranie mien atribútov v textovom reťazci obsahujúcom príkaz. Reťazec môžeme vytvoriť parametricky pomocou funkcie *sprintf()*. Textový reťazec vykonáme pomocou príkazu *exec*. "
   ]
  },
  {
   "cell_type": "code",
   "execution_count": null,
   "metadata": {},
   "outputs": [],
   "source": [
    "sch=r'''\n",
    "log_init;         \n",
    "d=2;\n",
    "\n",
    "move to (5,3);\n",
    "right_; \n",
    "G2: NAND_gate(8);\n",
    "\n",
    "for i=1 to 8 do { \n",
    "    exec sprintf(\"line from G2.In%g left_ d\",i); \n",
    "}\n",
    "\n",
    "line from G2.Out right_ d/2;\n",
    "'''\n",
    "\n",
    "cm_show('obr-320-2', sch, 500)"
   ]
  },
  {
   "cell_type": "markdown",
   "metadata": {},
   "source": [
    "<img src=\"./img/obr-320-2.png\" width=500, alt=\"Skript\" scale=\"0.1\"/>"
   ]
  }
 ],
 "metadata": {
  "kernelspec": {
   "display_name": "Python 3",
   "language": "python",
   "name": "python3"
  },
  "language_info": {
   "codemirror_mode": {
    "name": "ipython",
    "version": 3
   },
   "file_extension": ".py",
   "mimetype": "text/x-python",
   "name": "python",
   "nbconvert_exporter": "python",
   "pygments_lexer": "ipython3",
   "version": "3.8.5"
  },
  "latex_envs": {
   "LaTeX_envs_menu_present": true,
   "autoclose": false,
   "autocomplete": true,
   "bibliofile": "biblio.bib",
   "cite_by": "apalike",
   "current_citInitial": 1,
   "eqLabelWithNumbers": true,
   "eqNumInitial": 1,
   "hotkeys": {
    "equation": "Ctrl-E",
    "itemize": "Ctrl-I"
   },
   "labels_anchors": false,
   "latex_user_defs": false,
   "report_style_numbering": false,
   "user_envs_cfg": false
  },
  "varInspector": {
   "cols": {
    "lenName": 16,
    "lenType": 16,
    "lenVar": 40
   },
   "kernels_config": {
    "python": {
     "delete_cmd_postfix": "",
     "delete_cmd_prefix": "del ",
     "library": "var_list.py",
     "varRefreshCmd": "print(var_dic_list())"
    },
    "r": {
     "delete_cmd_postfix": ") ",
     "delete_cmd_prefix": "rm(",
     "library": "var_list.r",
     "varRefreshCmd": "cat(var_dic_list()) "
    }
   },
   "types_to_exclude": [
    "module",
    "function",
    "builtin_function_or_method",
    "instance",
    "_Feature"
   ],
   "window_display": false
  }
 },
 "nbformat": 4,
 "nbformat_minor": 4
}
