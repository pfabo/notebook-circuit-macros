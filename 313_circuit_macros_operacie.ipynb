{
 "cells": [
  {
   "cell_type": "markdown",
   "metadata": {},
   "source": [
    "# Aritmetika\n",
    "\n",
    "V jazyku dpic sú definované základné matematické operácie pre skalárne a vektorové (2D súradnice) premenné.\n",
    "\n",
    "## Matematické operácie"
   ]
  },
  {
   "cell_type": "code",
   "execution_count": null,
   "metadata": {},
   "outputs": [],
   "source": [
    "    + \n",
    "    - \n",
    "    * \n",
    "    / \n",
    "    % \n",
    "    hat\n",
    "    !=  \n",
    "    == \n",
    "    <       \n",
    "    >      \n",
    "    >=  \n",
    "    <= \n",
    "    ||     \n",
    "    \\&\\&\n"
   ]
  },
  {
   "cell_type": "markdown",
   "metadata": {},
   "source": [
    "### Unárne operátory\n",
    "\n",
    "    +=, -=, *=, /=, %=,\n",
    "    \n",
    "\n",
    "## Vektorová aritmetika\n",
    "\n",
    "Bod má definovanú polohu dvojicou súradníc $(x,y)$. \n"
   ]
  },
  {
   "cell_type": "code",
   "execution_count": null,
   "metadata": {},
   "outputs": [],
   "source": [
    "    P1: (1,1)            # atributy P1.x, P1.y\n",
    "    P2: (1,2) + (3,4) - (0.5, 0.5)\n",
    "    P3: (1,1) + P1\n",
    "    P4: P1 + P2\n",
    "    P5: (P3, P4)         # ekvivalent (P3.x, P4.y)\n",
    "    P6: P1*k             # k je skalarna hodnota"
   ]
  },
  {
   "cell_type": "markdown",
   "metadata": {},
   "source": [
    "Pri použití relačných operátorov na súradnice treba príslušnú operáciu realizovať po zložkách"
   ]
  },
  {
   "cell_type": "code",
   "execution_count": null,
   "metadata": {},
   "outputs": [],
   "source": [
    "    P1 > P2              # chyba\n",
    "    P1.x > P2.x          # ok"
   ]
  },
  {
   "cell_type": "markdown",
   "metadata": {},
   "source": [
    "## Zabudované funkcie\n",
    "\n",
    "V jazyku dpic sú definované základné matematické funkcie pre skalárne premenné."
   ]
  },
  {
   "cell_type": "code",
   "execution_count": null,
   "metadata": {},
   "outputs": [],
   "source": [
    "    sin(<expr>)\n",
    "    cos(<expr>)\n",
    "    log(<expr>)\n",
    "    exp(<expr>)\n",
    "    sqrt(<expr>)\n",
    "    max(<expr>, <expr>...)\n",
    "    atan2(<expr>, <expr>)\n",
    "    min(<expr>, <expr>...)\n",
    "    int(<expr>)\n",
    "    rand(<expr>)\n",
    "    abs(<expr>)\n",
    "    acos(<expr>)\n",
    "    asin(<expr>)\n",
    "    expe(<expr>)\n",
    "    floor(<expr>)\n",
    "    loge(<expr>)\n",
    "    sign(<expr>)\n",
    "    tan(<expr>)\n",
    "    pmod(<expr>)"
   ]
  }
 ],
 "metadata": {
  "kernelspec": {
   "display_name": "Python 3",
   "language": "python",
   "name": "python3"
  },
  "language_info": {
   "codemirror_mode": {
    "name": "ipython",
    "version": 3
   },
   "file_extension": ".py",
   "mimetype": "text/x-python",
   "name": "python",
   "nbconvert_exporter": "python",
   "pygments_lexer": "ipython3",
   "version": "3.8.5"
  },
  "latex_envs": {
   "LaTeX_envs_menu_present": true,
   "autoclose": false,
   "autocomplete": true,
   "bibliofile": "biblio.bib",
   "cite_by": "apalike",
   "current_citInitial": 1,
   "eqLabelWithNumbers": true,
   "eqNumInitial": 1,
   "hotkeys": {
    "equation": "Ctrl-E",
    "itemize": "Ctrl-I"
   },
   "labels_anchors": false,
   "latex_user_defs": false,
   "report_style_numbering": false,
   "user_envs_cfg": false
  },
  "varInspector": {
   "cols": {
    "lenName": 16,
    "lenType": 16,
    "lenVar": 40
   },
   "kernels_config": {
    "python": {
     "delete_cmd_postfix": "",
     "delete_cmd_prefix": "del ",
     "library": "var_list.py",
     "varRefreshCmd": "print(var_dic_list())"
    },
    "r": {
     "delete_cmd_postfix": ") ",
     "delete_cmd_prefix": "rm(",
     "library": "var_list.r",
     "varRefreshCmd": "cat(var_dic_list()) "
    }
   },
   "types_to_exclude": [
    "module",
    "function",
    "builtin_function_or_method",
    "instance",
    "_Feature"
   ],
   "window_display": false
  }
 },
 "nbformat": 4,
 "nbformat_minor": 4
}
